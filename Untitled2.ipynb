{
  "nbformat": 4,
  "nbformat_minor": 0,
  "metadata": {
    "colab": {
      "name": "Untitled2.ipynb",
      "version": "0.3.2",
      "provenance": [],
      "collapsed_sections": [],
      "include_colab_link": true
    },
    "kernelspec": {
      "name": "python3",
      "display_name": "Python 3"
    }
  },
  "cells": [
    {
      "cell_type": "markdown",
      "metadata": {
        "id": "view-in-github",
        "colab_type": "text"
      },
      "source": [
        "<a href=\"https://colab.research.google.com/github/gmvenge/Assessments/blob/master/Untitled2.ipynb\" target=\"_parent\"><img src=\"https://colab.research.google.com/assets/colab-badge.svg\" alt=\"Open In Colab\"/></a>"
      ]
    },
    {
      "cell_type": "markdown",
      "metadata": {
        "id": "Az9z8H3KhES7",
        "colab_type": "text"
      },
      "source": [
        "**Customer Behavior Analytics by Goodwill T Mumvenge**\n",
        "\n",
        "**July 08 2019**\n",
        "\n",
        "Customer analytics importance has gained voice and momentum as businesses have better access to customer data and also customers now have easier access to data and information on similar products and contents provided by other competitors, it is critical to many businesses to be able to understand and predict what their customers are likely to purchase or view. The deeper the understanding a company has about its customers, the better competitive power it will have against its competitors. "
      ]
    },
    {
      "cell_type": "code",
      "metadata": {
        "id": "Kf9ao4mZhILe",
        "colab_type": "code",
        "colab": {}
      },
      "source": [
        "import matplotlib.pyplot as plt \n",
        "import pandas as pd\n",
        "\n"
      ],
      "execution_count": 0,
      "outputs": []
    },
    {
      "cell_type": "markdown",
      "metadata": {
        "id": "8jfaQp4Bi6Ir",
        "colab_type": "text"
      },
      "source": [
        "**Loading the data**\n",
        "\n",
        "The data set used is publicly available from IBM.\n"
      ]
    },
    {
      "cell_type": "code",
      "metadata": {
        "id": "7LtzMjTpGkEq",
        "colab_type": "code",
        "colab": {}
      },
      "source": [
        "df = pd.read_csv('https://raw.githubusercontent.com/gmvenge/customer_analysis/master/WA_Fn-UseC_-Marketing-Customer-Value-Analysis.csv')"
      ],
      "execution_count": 0,
      "outputs": []
    },
    {
      "cell_type": "code",
      "metadata": {
        "id": "XHYFpaFnGkBF",
        "colab_type": "code",
        "outputId": "59e870fa-29f4-47f5-c931-2af82835af90",
        "colab": {
          "base_uri": "https://localhost:8080/",
          "height": 35
        }
      },
      "source": [
        "df.shape"
      ],
      "execution_count": 3,
      "outputs": [
        {
          "output_type": "execute_result",
          "data": {
            "text/plain": [
              "(9134, 24)"
            ]
          },
          "metadata": {
            "tags": []
          },
          "execution_count": 3
        }
      ]
    },
    {
      "cell_type": "code",
      "metadata": {
        "id": "-YZ7tDTzGj9f",
        "colab_type": "code",
        "outputId": "bcffa481-8a4a-4e1d-f20c-603d38f961d6",
        "colab": {
          "base_uri": "https://localhost:8080/",
          "height": 435
        }
      },
      "source": [
        "df.head()"
      ],
      "execution_count": 4,
      "outputs": [
        {
          "output_type": "execute_result",
          "data": {
            "text/html": [
              "<div>\n",
              "<style scoped>\n",
              "    .dataframe tbody tr th:only-of-type {\n",
              "        vertical-align: middle;\n",
              "    }\n",
              "\n",
              "    .dataframe tbody tr th {\n",
              "        vertical-align: top;\n",
              "    }\n",
              "\n",
              "    .dataframe thead th {\n",
              "        text-align: right;\n",
              "    }\n",
              "</style>\n",
              "<table border=\"1\" class=\"dataframe\">\n",
              "  <thead>\n",
              "    <tr style=\"text-align: right;\">\n",
              "      <th></th>\n",
              "      <th>Customer</th>\n",
              "      <th>State</th>\n",
              "      <th>Customer Lifetime Value</th>\n",
              "      <th>Response</th>\n",
              "      <th>Coverage</th>\n",
              "      <th>Education</th>\n",
              "      <th>Effective To Date</th>\n",
              "      <th>EmploymentStatus</th>\n",
              "      <th>Gender</th>\n",
              "      <th>Income</th>\n",
              "      <th>Location Code</th>\n",
              "      <th>Marital Status</th>\n",
              "      <th>Monthly Premium Auto</th>\n",
              "      <th>Months Since Last Claim</th>\n",
              "      <th>Months Since Policy Inception</th>\n",
              "      <th>Number of Open Complaints</th>\n",
              "      <th>Number of Policies</th>\n",
              "      <th>Policy Type</th>\n",
              "      <th>Policy</th>\n",
              "      <th>Renew Offer Type</th>\n",
              "      <th>Sales Channel</th>\n",
              "      <th>Total Claim Amount</th>\n",
              "      <th>Vehicle Class</th>\n",
              "      <th>Vehicle Size</th>\n",
              "    </tr>\n",
              "  </thead>\n",
              "  <tbody>\n",
              "    <tr>\n",
              "      <th>0</th>\n",
              "      <td>BU79786</td>\n",
              "      <td>Washington</td>\n",
              "      <td>2763.519279</td>\n",
              "      <td>No</td>\n",
              "      <td>Basic</td>\n",
              "      <td>Bachelor</td>\n",
              "      <td>2/24/11</td>\n",
              "      <td>Employed</td>\n",
              "      <td>F</td>\n",
              "      <td>56274</td>\n",
              "      <td>Suburban</td>\n",
              "      <td>Married</td>\n",
              "      <td>69</td>\n",
              "      <td>32</td>\n",
              "      <td>5</td>\n",
              "      <td>0</td>\n",
              "      <td>1</td>\n",
              "      <td>Corporate Auto</td>\n",
              "      <td>Corporate L3</td>\n",
              "      <td>Offer1</td>\n",
              "      <td>Agent</td>\n",
              "      <td>384.811147</td>\n",
              "      <td>Two-Door Car</td>\n",
              "      <td>Medsize</td>\n",
              "    </tr>\n",
              "    <tr>\n",
              "      <th>1</th>\n",
              "      <td>QZ44356</td>\n",
              "      <td>Arizona</td>\n",
              "      <td>6979.535903</td>\n",
              "      <td>No</td>\n",
              "      <td>Extended</td>\n",
              "      <td>Bachelor</td>\n",
              "      <td>1/31/11</td>\n",
              "      <td>Unemployed</td>\n",
              "      <td>F</td>\n",
              "      <td>0</td>\n",
              "      <td>Suburban</td>\n",
              "      <td>Single</td>\n",
              "      <td>94</td>\n",
              "      <td>13</td>\n",
              "      <td>42</td>\n",
              "      <td>0</td>\n",
              "      <td>8</td>\n",
              "      <td>Personal Auto</td>\n",
              "      <td>Personal L3</td>\n",
              "      <td>Offer3</td>\n",
              "      <td>Agent</td>\n",
              "      <td>1131.464935</td>\n",
              "      <td>Four-Door Car</td>\n",
              "      <td>Medsize</td>\n",
              "    </tr>\n",
              "    <tr>\n",
              "      <th>2</th>\n",
              "      <td>AI49188</td>\n",
              "      <td>Nevada</td>\n",
              "      <td>12887.431650</td>\n",
              "      <td>No</td>\n",
              "      <td>Premium</td>\n",
              "      <td>Bachelor</td>\n",
              "      <td>2/19/11</td>\n",
              "      <td>Employed</td>\n",
              "      <td>F</td>\n",
              "      <td>48767</td>\n",
              "      <td>Suburban</td>\n",
              "      <td>Married</td>\n",
              "      <td>108</td>\n",
              "      <td>18</td>\n",
              "      <td>38</td>\n",
              "      <td>0</td>\n",
              "      <td>2</td>\n",
              "      <td>Personal Auto</td>\n",
              "      <td>Personal L3</td>\n",
              "      <td>Offer1</td>\n",
              "      <td>Agent</td>\n",
              "      <td>566.472247</td>\n",
              "      <td>Two-Door Car</td>\n",
              "      <td>Medsize</td>\n",
              "    </tr>\n",
              "    <tr>\n",
              "      <th>3</th>\n",
              "      <td>WW63253</td>\n",
              "      <td>California</td>\n",
              "      <td>7645.861827</td>\n",
              "      <td>No</td>\n",
              "      <td>Basic</td>\n",
              "      <td>Bachelor</td>\n",
              "      <td>1/20/11</td>\n",
              "      <td>Unemployed</td>\n",
              "      <td>M</td>\n",
              "      <td>0</td>\n",
              "      <td>Suburban</td>\n",
              "      <td>Married</td>\n",
              "      <td>106</td>\n",
              "      <td>18</td>\n",
              "      <td>65</td>\n",
              "      <td>0</td>\n",
              "      <td>7</td>\n",
              "      <td>Corporate Auto</td>\n",
              "      <td>Corporate L2</td>\n",
              "      <td>Offer1</td>\n",
              "      <td>Call Center</td>\n",
              "      <td>529.881344</td>\n",
              "      <td>SUV</td>\n",
              "      <td>Medsize</td>\n",
              "    </tr>\n",
              "    <tr>\n",
              "      <th>4</th>\n",
              "      <td>HB64268</td>\n",
              "      <td>Washington</td>\n",
              "      <td>2813.692575</td>\n",
              "      <td>No</td>\n",
              "      <td>Basic</td>\n",
              "      <td>Bachelor</td>\n",
              "      <td>2/3/11</td>\n",
              "      <td>Employed</td>\n",
              "      <td>M</td>\n",
              "      <td>43836</td>\n",
              "      <td>Rural</td>\n",
              "      <td>Single</td>\n",
              "      <td>73</td>\n",
              "      <td>12</td>\n",
              "      <td>44</td>\n",
              "      <td>0</td>\n",
              "      <td>1</td>\n",
              "      <td>Personal Auto</td>\n",
              "      <td>Personal L1</td>\n",
              "      <td>Offer1</td>\n",
              "      <td>Agent</td>\n",
              "      <td>138.130879</td>\n",
              "      <td>Four-Door Car</td>\n",
              "      <td>Medsize</td>\n",
              "    </tr>\n",
              "  </tbody>\n",
              "</table>\n",
              "</div>"
            ],
            "text/plain": [
              "  Customer       State  ...  Vehicle Class Vehicle Size\n",
              "0  BU79786  Washington  ...   Two-Door Car      Medsize\n",
              "1  QZ44356     Arizona  ...  Four-Door Car      Medsize\n",
              "2  AI49188      Nevada  ...   Two-Door Car      Medsize\n",
              "3  WW63253  California  ...            SUV      Medsize\n",
              "4  HB64268  Washington  ...  Four-Door Car      Medsize\n",
              "\n",
              "[5 rows x 24 columns]"
            ]
          },
          "metadata": {
            "tags": []
          },
          "execution_count": 4
        }
      ]
    },
    {
      "cell_type": "code",
      "metadata": {
        "id": "7vkBoHfNGj6t",
        "colab_type": "code",
        "outputId": "d253b5e6-00e7-46fb-8150-bd37a4815831",
        "colab": {
          "base_uri": "https://localhost:8080/",
          "height": 164
        }
      },
      "source": [
        "df.columns"
      ],
      "execution_count": 5,
      "outputs": [
        {
          "output_type": "execute_result",
          "data": {
            "text/plain": [
              "Index(['Customer', 'State', 'Customer Lifetime Value', 'Response', 'Coverage',\n",
              "       'Education', 'Effective To Date', 'EmploymentStatus', 'Gender',\n",
              "       'Income', 'Location Code', 'Marital Status', 'Monthly Premium Auto',\n",
              "       'Months Since Last Claim', 'Months Since Policy Inception',\n",
              "       'Number of Open Complaints', 'Number of Policies', 'Policy Type',\n",
              "       'Policy', 'Renew Offer Type', 'Sales Channel', 'Total Claim Amount',\n",
              "       'Vehicle Class', 'Vehicle Size'],\n",
              "      dtype='object')"
            ]
          },
          "metadata": {
            "tags": []
          },
          "execution_count": 5
        }
      ]
    },
    {
      "cell_type": "code",
      "metadata": {
        "id": "nlOcDxukGjwd",
        "colab_type": "code",
        "colab": {}
      },
      "source": [
        " # Finding the number of customers who have responded\n"
      ],
      "execution_count": 0,
      "outputs": []
    },
    {
      "cell_type": "code",
      "metadata": {
        "id": "_c5mJ2_iGjmJ",
        "colab_type": "code",
        "outputId": "964fc4ae-92e2-4bb6-be5f-3d369e2ec9a5",
        "colab": {
          "base_uri": "https://localhost:8080/",
          "height": 90
        }
      },
      "source": [
        "df.groupby('Response').count()['Customer']\n"
      ],
      "execution_count": 6,
      "outputs": [
        {
          "output_type": "execute_result",
          "data": {
            "text/plain": [
              "Response\n",
              "No     7826\n",
              "Yes    1308\n",
              "Name: Customer, dtype: int64"
            ]
          },
          "metadata": {
            "tags": []
          },
          "execution_count": 6
        }
      ]
    },
    {
      "cell_type": "code",
      "metadata": {
        "id": "PQ2SeD-MJywT",
        "colab_type": "code",
        "colab": {}
      },
      "source": [
        " # Visualising the data in a bar chart\n"
      ],
      "execution_count": 0,
      "outputs": []
    },
    {
      "cell_type": "code",
      "metadata": {
        "id": "gW-SDYBwJytu",
        "colab_type": "code",
        "outputId": "eb9af467-bf2d-42af-fbcd-37f9159a6acd",
        "colab": {
          "base_uri": "https://localhost:8080/",
          "height": 466
        }
      },
      "source": [
        "ax = df.groupby('Response').count()['Customer'].plot( kind='bar', grid=False, figsize=(10, 7), title='Marketing Engagement' )\n",
        "ax.set_xlabel('Engaged')\n",
        "ax.set_ylabel('Count')\n",
        "plt.show()\n"
      ],
      "execution_count": 35,
      "outputs": [
        {
          "output_type": "display_data",
          "data": {
            "image/png": "[encoded data removed]",
            "text/plain": [
              "<Figure size 720x504 with 1 Axes>"
            ]
          },
          "metadata": {
            "tags": []
          }
        }
      ]
    },
    {
      "cell_type": "code",
      "metadata": {
        "id": "ubkQfT6eJyq2",
        "colab_type": "code",
        "colab": {}
      },
      "source": [
        " # Calculate the percentages of the engaged and non-engaged customers\n"
      ],
      "execution_count": 0,
      "outputs": []
    },
    {
      "cell_type": "code",
      "metadata": {
        "id": "1kwAX7TSJyoK",
        "colab_type": "code",
        "outputId": "23de6738-fe5c-4373-f2aa-30a3ada76789",
        "colab": {
          "base_uri": "https://localhost:8080/",
          "height": 90
        }
      },
      "source": [
        "df.groupby('Response').count()['Customer']/df.shape[0]"
      ],
      "execution_count": 8,
      "outputs": [
        {
          "output_type": "execute_result",
          "data": {
            "text/plain": [
              "Response\n",
              "No     0.856799\n",
              "Yes    0.143201\n",
              "Name: Customer, dtype: float64"
            ]
          },
          "metadata": {
            "tags": []
          },
          "execution_count": 8
        }
      ]
    },
    {
      "cell_type": "markdown",
      "metadata": {
        "id": "VOg0hZj5VhyG",
        "colab_type": "text"
      },
      "source": [
        "Only 14.3 % responded to markerting calls "
      ]
    },
    {
      "cell_type": "markdown",
      "metadata": {
        "id": "xwajX6AbV4eA",
        "colab_type": "text"
      },
      "source": [
        "The Renew  Offer Type column in this DataFrame contains the type of the renewal offer presented to the customers. We are going to look into what types of offers worked best for the engaged customers"
      ]
    },
    {
      "cell_type": "code",
      "metadata": {
        "id": "xIkmzzLRJylD",
        "colab_type": "code",
        "colab": {}
      },
      "source": [
        "# Get the engagement rates per renewal offer type\n",
        "\n"
      ],
      "execution_count": 0,
      "outputs": []
    },
    {
      "cell_type": "code",
      "metadata": {
        "id": "V68oCQulJybo",
        "colab_type": "code",
        "outputId": "c10b0ea6-5d06-41ea-f5cf-8028c9bb79ad",
        "colab": {
          "base_uri": "https://localhost:8080/",
          "height": 127
        }
      },
      "source": [
        "by_offer_type_df = df.loc[ \n",
        "    df['Response'] == 'Yes', # count only engaged customers \n",
        "].groupby(['Renew Offer Type'# engaged customers grouped by renewal offer type \n",
        "          ]).count()['Customer'] / df.groupby('Renew Offer Type').count()['Customer']\n",
        "by_offer_type_df\n"
      ],
      "execution_count": 9,
      "outputs": [
        {
          "output_type": "execute_result",
          "data": {
            "text/plain": [
              "Renew Offer Type\n",
              "Offer1    0.158316\n",
              "Offer2    0.233766\n",
              "Offer3    0.020950\n",
              "Offer4         NaN\n",
              "Name: Customer, dtype: float64"
            ]
          },
          "metadata": {
            "tags": []
          },
          "execution_count": 9
        }
      ]
    },
    {
      "cell_type": "markdown",
      "metadata": {
        "id": "nRE_EacQ-eW1",
        "colab_type": "text"
      },
      "source": [
        "Bar plot visualisation"
      ]
    },
    {
      "cell_type": "code",
      "metadata": {
        "id": "pEZHOoG2JyIE",
        "colab_type": "code",
        "outputId": "4cb81683-58d4-49cc-ffdd-276bd5e855a6",
        "colab": {
          "base_uri": "https://localhost:8080/",
          "height": 468
        }
      },
      "source": [
        "ax = (by_offer_type_df*100.0).plot( kind='bar', figsize=(9, 7), grid=False )\n",
        "ax.set_ylabel('Engagement Rate (%)')\n",
        "plt.show()\n"
      ],
      "execution_count": 39,
      "outputs": [
        {
          "output_type": "display_data",
          "data": {
            "image/png": "[encoded data removed]",
            "text/plain": [
              "<Figure size 648x504 with 1 Axes>"
            ]
          },
          "metadata": {
            "tags": []
          }
        }
      ]
    },
    {
      "cell_type": "markdown",
      "metadata": {
        "id": "9luafAod_JB-",
        "colab_type": "text"
      },
      "source": [
        "As can be depicted, offer2 has the highest engagement rate among customers."
      ]
    },
    {
      "cell_type": "markdown",
      "metadata": {
        "id": "EpIIQ-sA_usY",
        "colab_type": "text"
      },
      "source": [
        "How customers with different attributes respond to markerting messages considering engagement rates by offer type and vehicle class owned by the customer"
      ]
    },
    {
      "cell_type": "code",
      "metadata": {
        "id": "LCEOOtrA_Xk6",
        "colab_type": "code",
        "outputId": "20fbc3ed-3722-4eac-bbb9-6b9b3e2927bf",
        "colab": {
          "base_uri": "https://localhost:8080/",
          "height": 311
        }
      },
      "source": [
        "by_offer_type_df = df.loc[ \n",
        "    df['Response'] == 'Yes' # engaged customers\n",
        "].groupby([ 'Renew Offer Type', 'Vehicle Class' # grouping the data by these two columns \n",
        "          ]).count()['Customer'] / df.groupby('Renew Offer Type').count()['Customer']# rates for engaged customers\n",
        "by_offer_type_df "
      ],
      "execution_count": 11,
      "outputs": [
        {
          "output_type": "execute_result",
          "data": {
            "text/plain": [
              "Renew Offer Type  Vehicle Class\n",
              "Offer1            Four-Door Car    0.070362\n",
              "                  Luxury Car       0.001599\n",
              "                  Luxury SUV       0.004797\n",
              "                  SUV              0.044776\n",
              "                  Sports Car       0.011194\n",
              "                  Two-Door Car     0.025586\n",
              "Offer2            Four-Door Car    0.114833\n",
              "                  Luxury Car       0.002051\n",
              "                  Luxury SUV       0.004101\n",
              "                  SUV              0.041012\n",
              "                  Sports Car       0.016405\n",
              "                  Two-Door Car     0.055366\n",
              "Offer3            Four-Door Car    0.016760\n",
              "                  Two-Door Car     0.004190\n",
              "Name: Customer, dtype: float64"
            ]
          },
          "metadata": {
            "tags": []
          },
          "execution_count": 11
        }
      ]
    },
    {
      "cell_type": "markdown",
      "metadata": {
        "id": "tZIiiz_TB4hh",
        "colab_type": "text"
      },
      "source": [
        "Make the output readable using unstuck function"
      ]
    },
    {
      "cell_type": "code",
      "metadata": {
        "id": "1z2xcRWV_Y9j",
        "colab_type": "code",
        "outputId": "6123efb9-207f-4bd3-8cca-44f242be95be",
        "colab": {
          "base_uri": "https://localhost:8080/",
          "height": 175
        }
      },
      "source": [
        "by_offer_type_df = by_offer_type_df.unstack().fillna(0) \n",
        "by_offer_type_df "
      ],
      "execution_count": 12,
      "outputs": [
        {
          "output_type": "execute_result",
          "data": {
            "text/html": [
              "<div>\n",
              "<style scoped>\n",
              "    .dataframe tbody tr th:only-of-type {\n",
              "        vertical-align: middle;\n",
              "    }\n",
              "\n",
              "    .dataframe tbody tr th {\n",
              "        vertical-align: top;\n",
              "    }\n",
              "\n",
              "    .dataframe thead th {\n",
              "        text-align: right;\n",
              "    }\n",
              "</style>\n",
              "<table border=\"1\" class=\"dataframe\">\n",
              "  <thead>\n",
              "    <tr style=\"text-align: right;\">\n",
              "      <th>Vehicle Class</th>\n",
              "      <th>Four-Door Car</th>\n",
              "      <th>Luxury Car</th>\n",
              "      <th>Luxury SUV</th>\n",
              "      <th>SUV</th>\n",
              "      <th>Sports Car</th>\n",
              "      <th>Two-Door Car</th>\n",
              "    </tr>\n",
              "    <tr>\n",
              "      <th>Renew Offer Type</th>\n",
              "      <th></th>\n",
              "      <th></th>\n",
              "      <th></th>\n",
              "      <th></th>\n",
              "      <th></th>\n",
              "      <th></th>\n",
              "    </tr>\n",
              "  </thead>\n",
              "  <tbody>\n",
              "    <tr>\n",
              "      <th>Offer1</th>\n",
              "      <td>0.070362</td>\n",
              "      <td>0.001599</td>\n",
              "      <td>0.004797</td>\n",
              "      <td>0.044776</td>\n",
              "      <td>0.011194</td>\n",
              "      <td>0.025586</td>\n",
              "    </tr>\n",
              "    <tr>\n",
              "      <th>Offer2</th>\n",
              "      <td>0.114833</td>\n",
              "      <td>0.002051</td>\n",
              "      <td>0.004101</td>\n",
              "      <td>0.041012</td>\n",
              "      <td>0.016405</td>\n",
              "      <td>0.055366</td>\n",
              "    </tr>\n",
              "    <tr>\n",
              "      <th>Offer3</th>\n",
              "      <td>0.016760</td>\n",
              "      <td>0.000000</td>\n",
              "      <td>0.000000</td>\n",
              "      <td>0.000000</td>\n",
              "      <td>0.000000</td>\n",
              "      <td>0.004190</td>\n",
              "    </tr>\n",
              "  </tbody>\n",
              "</table>\n",
              "</div>"
            ],
            "text/plain": [
              "Vehicle Class     Four-Door Car  Luxury Car  ...  Sports Car  Two-Door Car\n",
              "Renew Offer Type                             ...                          \n",
              "Offer1                 0.070362    0.001599  ...    0.011194      0.025586\n",
              "Offer2                 0.114833    0.002051  ...    0.016405      0.055366\n",
              "Offer3                 0.016760    0.000000  ...    0.000000      0.004190\n",
              "\n",
              "[3 rows x 6 columns]"
            ]
          },
          "metadata": {
            "tags": []
          },
          "execution_count": 12
        }
      ]
    },
    {
      "cell_type": "markdown",
      "metadata": {
        "id": "zsv2Ue7UCx1u",
        "colab_type": "text"
      },
      "source": [
        "Visualising on a bar plot"
      ]
    },
    {
      "cell_type": "code",
      "metadata": {
        "id": "FaGpUXpn_Yxp",
        "colab_type": "code",
        "outputId": "31644592-e1e5-4e61-abc0-148798c21dfb",
        "colab": {
          "base_uri": "https://localhost:8080/",
          "height": 522
        }
      },
      "source": [
        "ax = (by_offer_type_df*100.0).plot( kind='bar', figsize=(12, 8), grid=False )\n",
        "ax.set_ylabel('Engagement Rate (%)')\n",
        "plt.show()\n"
      ],
      "execution_count": 28,
      "outputs": [
        {
          "output_type": "display_data",
          "data": {
            "image/png": "[encoded data removed]",
            "text/plain": [
              "<Figure size 864x576 with 1 Axes>"
            ]
          },
          "metadata": {
            "tags": []
          }
        }
      ]
    },
    {
      "cell_type": "markdown",
      "metadata": {
        "id": "WxP1xRNJDYEJ",
        "colab_type": "text"
      },
      "source": [
        "We already knew from the previous section “Engagement Rates by Offer Type” that Offer2 had the highest response rate among customers. Now we can add more insights by having broken down the customer attributes with the category “Vehicle class”: we can notice that customers with Four-Door Car respond more frequently for all offer types and that those with “Luxury SUV” respond with a higher chance to Offer1 than to Offer2. If we have signiﬁcantly difference in the response rates among different customer rates, we can ﬁne-tune who to target for different set of offers.\n"
      ]
    },
    {
      "cell_type": "markdown",
      "metadata": {
        "id": "xqcod4jHEBn7",
        "colab_type": "text"
      },
      "source": [
        " Engagement Rates by Sales Channel :\n",
        " \n",
        " We are going to analyze how engagement rates differ by different sales channels.\n"
      ]
    },
    {
      "cell_type": "code",
      "metadata": {
        "id": "zxN5_tXrE75l",
        "colab_type": "code",
        "outputId": "0cbfe342-b845-4d50-9019-77315e04f2d9",
        "colab": {
          "base_uri": "https://localhost:8080/",
          "height": 127
        }
      },
      "source": [
        "by_sales_channel_df = df.loc[ df['Response'] == 'Yes' ].groupby([ 'Sales Channel' ]).count()['Customer']/df.groupby('Sales Channel').count()['Customer']\n",
        "by_sales_channel_df\n"
      ],
      "execution_count": 14,
      "outputs": [
        {
          "output_type": "execute_result",
          "data": {
            "text/plain": [
              "Sales Channel\n",
              "Agent          0.191544\n",
              "Branch         0.114531\n",
              "Call Center    0.108782\n",
              "Web            0.117736\n",
              "Name: Customer, dtype: float64"
            ]
          },
          "metadata": {
            "tags": []
          },
          "execution_count": 14
        }
      ]
    },
    {
      "cell_type": "code",
      "metadata": {
        "id": "n02eJOaZFHrI",
        "colab_type": "code",
        "outputId": "1cb59105-5e42-455a-ea95-4c4fa0d863c0",
        "colab": {
          "base_uri": "https://localhost:8080/",
          "height": 491
        }
      },
      "source": [
        "ax = (by_sales_channel_df*100.0).plot( kind='bar', figsize=(10, 7), grid=False )\n",
        "ax.set_ylabel('Engagement Rate (%)')\n",
        "plt.show()\n"
      ],
      "execution_count": 32,
      "outputs": [
        {
          "output_type": "display_data",
          "data": {
            "image/png": "[encoded data removed]",
            "text/plain": [
              "<Figure size 720x504 with 1 Axes>"
            ]
          },
          "metadata": {
            "tags": []
          }
        }
      ]
    },
    {
      "cell_type": "markdown",
      "metadata": {
        "id": "NKcWVmdCFjhR",
        "colab_type": "text"
      },
      "source": [
        "As we can notice, Agent works better in term of getting responses from the customers, and then sales through Web works the second best. Let’s go ahead in breaking down this result deeper with different customers’ attributes"
      ]
    },
    {
      "cell_type": "markdown",
      "metadata": {
        "id": "chfzfM48GBW_",
        "colab_type": "text"
      },
      "source": [
        "Sales Channel & Vehicle Size \n",
        "\n",
        "We are going to see whether customers with various vehicle sizes respond differently to different sales channels"
      ]
    },
    {
      "cell_type": "code",
      "metadata": {
        "id": "nKNiEQvjFHkE",
        "colab_type": "code",
        "outputId": "4500d0f0-8b09-445f-ea86-8b862a386555",
        "colab": {
          "base_uri": "https://localhost:8080/",
          "height": 274
        }
      },
      "source": [
        "by_sales_channel_df = df.loc[ df['Response'] == 'Yes' ].groupby([ 'Sales Channel', 'Vehicle Size' ]).count()['Customer'] / df.groupby('Sales Channel').count()['Customer']\n",
        "by_sales_channel_df\n"
      ],
      "execution_count": 16,
      "outputs": [
        {
          "output_type": "execute_result",
          "data": {
            "text/plain": [
              "Sales Channel  Vehicle Size\n",
              "Agent          Large           0.020708\n",
              "               Medsize         0.144953\n",
              "               Small           0.025884\n",
              "Branch         Large           0.021036\n",
              "               Medsize         0.074795\n",
              "               Small           0.018699\n",
              "Call Center    Large           0.013598\n",
              "               Medsize         0.067989\n",
              "               Small           0.027195\n",
              "Web            Large           0.013585\n",
              "               Medsize         0.095094\n",
              "               Small           0.009057\n",
              "Name: Customer, dtype: float64"
            ]
          },
          "metadata": {
            "tags": []
          },
          "execution_count": 16
        }
      ]
    },
    {
      "cell_type": "markdown",
      "metadata": {
        "id": "s1MKZq42GVa5",
        "colab_type": "text"
      },
      "source": [
        "Unstacking the results"
      ]
    },
    {
      "cell_type": "code",
      "metadata": {
        "id": "L7WO4MiNFHeB",
        "colab_type": "code",
        "outputId": "8bbc3b71-f34b-4401-e6c4-b0a0fb3005d3",
        "colab": {
          "base_uri": "https://localhost:8080/",
          "height": 206
        }
      },
      "source": [
        "by_sales_channel_df = by_sales_channel_df.unstack().fillna(0) \n",
        "by_sales_channel_df\n"
      ],
      "execution_count": 17,
      "outputs": [
        {
          "output_type": "execute_result",
          "data": {
            "text/html": [
              "<div>\n",
              "<style scoped>\n",
              "    .dataframe tbody tr th:only-of-type {\n",
              "        vertical-align: middle;\n",
              "    }\n",
              "\n",
              "    .dataframe tbody tr th {\n",
              "        vertical-align: top;\n",
              "    }\n",
              "\n",
              "    .dataframe thead th {\n",
              "        text-align: right;\n",
              "    }\n",
              "</style>\n",
              "<table border=\"1\" class=\"dataframe\">\n",
              "  <thead>\n",
              "    <tr style=\"text-align: right;\">\n",
              "      <th>Vehicle Size</th>\n",
              "      <th>Large</th>\n",
              "      <th>Medsize</th>\n",
              "      <th>Small</th>\n",
              "    </tr>\n",
              "    <tr>\n",
              "      <th>Sales Channel</th>\n",
              "      <th></th>\n",
              "      <th></th>\n",
              "      <th></th>\n",
              "    </tr>\n",
              "  </thead>\n",
              "  <tbody>\n",
              "    <tr>\n",
              "      <th>Agent</th>\n",
              "      <td>0.020708</td>\n",
              "      <td>0.144953</td>\n",
              "      <td>0.025884</td>\n",
              "    </tr>\n",
              "    <tr>\n",
              "      <th>Branch</th>\n",
              "      <td>0.021036</td>\n",
              "      <td>0.074795</td>\n",
              "      <td>0.018699</td>\n",
              "    </tr>\n",
              "    <tr>\n",
              "      <th>Call Center</th>\n",
              "      <td>0.013598</td>\n",
              "      <td>0.067989</td>\n",
              "      <td>0.027195</td>\n",
              "    </tr>\n",
              "    <tr>\n",
              "      <th>Web</th>\n",
              "      <td>0.013585</td>\n",
              "      <td>0.095094</td>\n",
              "      <td>0.009057</td>\n",
              "    </tr>\n",
              "  </tbody>\n",
              "</table>\n",
              "</div>"
            ],
            "text/plain": [
              "Vehicle Size      Large   Medsize     Small\n",
              "Sales Channel                              \n",
              "Agent          0.020708  0.144953  0.025884\n",
              "Branch         0.021036  0.074795  0.018699\n",
              "Call Center    0.013598  0.067989  0.027195\n",
              "Web            0.013585  0.095094  0.009057"
            ]
          },
          "metadata": {
            "tags": []
          },
          "execution_count": 17
        }
      ]
    },
    {
      "cell_type": "code",
      "metadata": {
        "id": "aqu4D6GpFHXn",
        "colab_type": "code",
        "outputId": "c876cb6c-d65b-4f1d-f203-802d12e1fac0",
        "colab": {
          "base_uri": "https://localhost:8080/",
          "height": 491
        }
      },
      "source": [
        "ax = (by_sales_channel_df*100.0).plot( kind='bar', figsize=(11, 7), grid=False )\n",
        "ax.set_ylabel('Engagement Rate (%)')\n",
        "plt.show()\n"
      ],
      "execution_count": 34,
      "outputs": [
        {
          "output_type": "display_data",
          "data": {
            "image/png": "[encoded data removed]",
            "text/plain": [
              "<Figure size 792x504 with 1 Axes>"
            ]
          },
          "metadata": {
            "tags": []
          }
        }
      ]
    },
    {
      "cell_type": "markdown",
      "metadata": {
        "id": "mx5STG5rHaU8",
        "colab_type": "text"
      },
      "source": [
        "As we can see, customers with medium size vehicles respond the best to all sales channels whereas the other customers differs slightly in terms of engagement rates across different sales channels"
      ]
    },
    {
      "cell_type": "markdown",
      "metadata": {
        "id": "fbwjTw8tHc0-",
        "colab_type": "text"
      },
      "source": [
        " Engagement Rates by Months Since Policy Inception "
      ]
    },
    {
      "cell_type": "code",
      "metadata": {
        "id": "hbJsiujaFHQT",
        "colab_type": "code",
        "outputId": "7b03d53f-6168-4d38-f00b-3f6f4c2ecab4",
        "colab": {
          "base_uri": "https://localhost:8080/",
          "height": 1000
        }
      },
      "source": [
        "by_months_since_inception_df = df.loc[ \n",
        "    df['Response'] == 'Yes' \n",
        "].groupby( by='Months Since Policy Inception' \n",
        ")['Response'].count() / df.groupby( by='Months Since Policy Inception' )['Response'].count() * 100.0\n",
        "\n",
        "by_months_since_inception_df.fillna(0)"
      ],
      "execution_count": 19,
      "outputs": [
        {
          "output_type": "execute_result",
          "data": {
            "text/plain": [
              "Months Since Policy Inception\n",
              "0     14.457831\n",
              "1     14.117647\n",
              "2     20.224719\n",
              "3     26.315789\n",
              "4     19.780220\n",
              "5      6.896552\n",
              "6      0.000000\n",
              "7      7.594937\n",
              "8      7.407407\n",
              "9     18.750000\n",
              "10    15.789474\n",
              "11    17.307692\n",
              "12     6.000000\n",
              "13    14.814815\n",
              "14     0.000000\n",
              "15    22.018349\n",
              "16     0.000000\n",
              "17    11.881188\n",
              "18    13.333333\n",
              "19    16.981132\n",
              "20    11.650485\n",
              "21    11.428571\n",
              "22    12.903226\n",
              "23    20.454545\n",
              "24    21.951220\n",
              "25    13.483146\n",
              "26    15.000000\n",
              "27    12.371134\n",
              "28    17.475728\n",
              "29    12.244898\n",
              "        ...    \n",
              "70    23.529412\n",
              "71    12.000000\n",
              "72    23.762376\n",
              "73     6.818182\n",
              "74    19.780220\n",
              "75     6.122449\n",
              "76     6.976744\n",
              "77    18.947368\n",
              "78     7.317073\n",
              "79    11.881188\n",
              "80    16.438356\n",
              "81    15.789474\n",
              "82     0.000000\n",
              "83    24.000000\n",
              "84     6.000000\n",
              "85    14.117647\n",
              "86     0.000000\n",
              "87     7.894737\n",
              "88     7.894737\n",
              "89    18.556701\n",
              "90    14.285714\n",
              "91     8.000000\n",
              "92    16.216216\n",
              "93    26.666667\n",
              "94    25.000000\n",
              "95    15.584416\n",
              "96    17.910448\n",
              "97     0.000000\n",
              "98     0.000000\n",
              "99     7.692308\n",
              "Name: Response, Length: 100, dtype: float64"
            ]
          },
          "metadata": {
            "tags": []
          },
          "execution_count": 19
        }
      ]
    },
    {
      "cell_type": "code",
      "metadata": {
        "id": "IMtAaUoFFG5b",
        "colab_type": "code",
        "outputId": "2cfd1256-c99d-46b0-8479-6fc1f204e7d5",
        "colab": {
          "base_uri": "https://localhost:8080/",
          "height": 458
        }
      },
      "source": [
        "ax = by_months_since_inception_df.fillna(0).plot( figsize=(10, 7), title='Engagement Rates by Months Since Inception', grid=False, color='blue' )\n",
        "ax.set_xlabel('Months Since Policy Inception') \n",
        "ax.set_ylabel('Engagement Rate (%)')\n",
        "plt.show()\n"
      ],
      "execution_count": 41,
      "outputs": [
        {
          "output_type": "display_data",
          "data": {
            "image/png": "[encoded data removed]",
            "text/plain": [
              "<Figure size 720x504 with 1 Axes>"
            ]
          },
          "metadata": {
            "tags": []
          }
        }
      ]
    },
    {
      "cell_type": "markdown",
      "metadata": {
        "id": "yb8xqVKOYf2V",
        "colab_type": "text"
      },
      "source": [
        " Customer Segmentation by CLV & Months Since Policy Inception\n",
        " \n",
        " \n",
        " \n",
        " \n",
        "We are going to segment our customer base by Customer Lifetime Value and Months Since Policy Inception. "
      ]
    },
    {
      "cell_type": "markdown",
      "metadata": {
        "id": "B1Y9nnXaZA1t",
        "colab_type": "text"
      },
      "source": [
        ""
      ]
    },
    {
      "cell_type": "code",
      "metadata": {
        "id": "2AdR1m9V_YfO",
        "colab_type": "code",
        "outputId": "f2a24142-88a1-4e05-829e-0cb60b18096a",
        "colab": {
          "base_uri": "https://localhost:8080/",
          "height": 182
        }
      },
      "source": [
        "df['Customer Lifetime Value'].describe() "
      ],
      "execution_count": 21,
      "outputs": [
        {
          "output_type": "execute_result",
          "data": {
            "text/plain": [
              "count     9134.000000\n",
              "mean      8004.940475\n",
              "std       6870.967608\n",
              "min       1898.007675\n",
              "25%       3994.251794\n",
              "50%       5780.182197\n",
              "75%       8962.167041\n",
              "max      83325.381190\n",
              "Name: Customer Lifetime Value, dtype: float64"
            ]
          },
          "metadata": {
            "tags": []
          },
          "execution_count": 21
        }
      ]
    },
    {
      "cell_type": "markdown",
      "metadata": {
        "id": "Oq1I7h7UZDRy",
        "colab_type": "text"
      },
      "source": [
        "For the previous output, we are going to deﬁne those customers with a CLV higher than the median as high-CLV customers, and those with a CLV lower than the median as low-CLV customers.\n"
      ]
    },
    {
      "cell_type": "code",
      "metadata": {
        "id": "QRz9Gd-uY8Yu",
        "colab_type": "code",
        "colab": {}
      },
      "source": [
        "df['CLV Segment'] = df['Customer Lifetime Value'].apply( lambda x: 'High' if x > df['Customer Lifetime Value'].median() else 'Low' ) "
      ],
      "execution_count": 0,
      "outputs": []
    },
    {
      "cell_type": "markdown",
      "metadata": {
        "id": "TEmu69r0ZVMB",
        "colab_type": "text"
      },
      "source": [
        " # Do the same procedure for Months Since Policy Inception"
      ]
    },
    {
      "cell_type": "code",
      "metadata": {
        "id": "6MNb16UCJQpu",
        "colab_type": "code",
        "outputId": "b548ac1d-afd7-4545-89c8-1967a7e299f0",
        "colab": {
          "base_uri": "https://localhost:8080/",
          "height": 182
        }
      },
      "source": [
        "df['Months Since Policy Inception'].describe() "
      ],
      "execution_count": 23,
      "outputs": [
        {
          "output_type": "execute_result",
          "data": {
            "text/plain": [
              "count    9134.000000\n",
              "mean       48.064594\n",
              "std        27.905991\n",
              "min         0.000000\n",
              "25%        24.000000\n",
              "50%        48.000000\n",
              "75%        71.000000\n",
              "max        99.000000\n",
              "Name: Months Since Policy Inception, dtype: float64"
            ]
          },
          "metadata": {
            "tags": []
          },
          "execution_count": 23
        }
      ]
    },
    {
      "cell_type": "code",
      "metadata": {
        "id": "erypX1TnJRGe",
        "colab_type": "code",
        "colab": {}
      },
      "source": [
        "df['Policy Age Segment'] = df['Months Since Policy Inception'].apply(\n",
        "    lambda x: 'High' if x > df['Months Since Policy Inception'].median() else 'Low' )"
      ],
      "execution_count": 0,
      "outputs": []
    },
    {
      "cell_type": "code",
      "metadata": {
        "id": "tkf4MgK6dViH",
        "colab_type": "code",
        "outputId": "f71624fe-3479-40f1-cf36-68836b6b66da",
        "colab": {
          "base_uri": "https://localhost:8080/",
          "height": 435
        }
      },
      "source": [
        "df.head()"
      ],
      "execution_count": 25,
      "outputs": [
        {
          "output_type": "execute_result",
          "data": {
            "text/html": [
              "<div>\n",
              "<style scoped>\n",
              "    .dataframe tbody tr th:only-of-type {\n",
              "        vertical-align: middle;\n",
              "    }\n",
              "\n",
              "    .dataframe tbody tr th {\n",
              "        vertical-align: top;\n",
              "    }\n",
              "\n",
              "    .dataframe thead th {\n",
              "        text-align: right;\n",
              "    }\n",
              "</style>\n",
              "<table border=\"1\" class=\"dataframe\">\n",
              "  <thead>\n",
              "    <tr style=\"text-align: right;\">\n",
              "      <th></th>\n",
              "      <th>Customer</th>\n",
              "      <th>State</th>\n",
              "      <th>Customer Lifetime Value</th>\n",
              "      <th>Response</th>\n",
              "      <th>Coverage</th>\n",
              "      <th>Education</th>\n",
              "      <th>Effective To Date</th>\n",
              "      <th>EmploymentStatus</th>\n",
              "      <th>Gender</th>\n",
              "      <th>Income</th>\n",
              "      <th>Location Code</th>\n",
              "      <th>Marital Status</th>\n",
              "      <th>Monthly Premium Auto</th>\n",
              "      <th>Months Since Last Claim</th>\n",
              "      <th>Months Since Policy Inception</th>\n",
              "      <th>Number of Open Complaints</th>\n",
              "      <th>Number of Policies</th>\n",
              "      <th>Policy Type</th>\n",
              "      <th>Policy</th>\n",
              "      <th>Renew Offer Type</th>\n",
              "      <th>Sales Channel</th>\n",
              "      <th>Total Claim Amount</th>\n",
              "      <th>Vehicle Class</th>\n",
              "      <th>Vehicle Size</th>\n",
              "      <th>CLV Segment</th>\n",
              "      <th>Policy Age Segment</th>\n",
              "    </tr>\n",
              "  </thead>\n",
              "  <tbody>\n",
              "    <tr>\n",
              "      <th>0</th>\n",
              "      <td>BU79786</td>\n",
              "      <td>Washington</td>\n",
              "      <td>2763.519279</td>\n",
              "      <td>No</td>\n",
              "      <td>Basic</td>\n",
              "      <td>Bachelor</td>\n",
              "      <td>2/24/11</td>\n",
              "      <td>Employed</td>\n",
              "      <td>F</td>\n",
              "      <td>56274</td>\n",
              "      <td>Suburban</td>\n",
              "      <td>Married</td>\n",
              "      <td>69</td>\n",
              "      <td>32</td>\n",
              "      <td>5</td>\n",
              "      <td>0</td>\n",
              "      <td>1</td>\n",
              "      <td>Corporate Auto</td>\n",
              "      <td>Corporate L3</td>\n",
              "      <td>Offer1</td>\n",
              "      <td>Agent</td>\n",
              "      <td>384.811147</td>\n",
              "      <td>Two-Door Car</td>\n",
              "      <td>Medsize</td>\n",
              "      <td>Low</td>\n",
              "      <td>Low</td>\n",
              "    </tr>\n",
              "    <tr>\n",
              "      <th>1</th>\n",
              "      <td>QZ44356</td>\n",
              "      <td>Arizona</td>\n",
              "      <td>6979.535903</td>\n",
              "      <td>No</td>\n",
              "      <td>Extended</td>\n",
              "      <td>Bachelor</td>\n",
              "      <td>1/31/11</td>\n",
              "      <td>Unemployed</td>\n",
              "      <td>F</td>\n",
              "      <td>0</td>\n",
              "      <td>Suburban</td>\n",
              "      <td>Single</td>\n",
              "      <td>94</td>\n",
              "      <td>13</td>\n",
              "      <td>42</td>\n",
              "      <td>0</td>\n",
              "      <td>8</td>\n",
              "      <td>Personal Auto</td>\n",
              "      <td>Personal L3</td>\n",
              "      <td>Offer3</td>\n",
              "      <td>Agent</td>\n",
              "      <td>1131.464935</td>\n",
              "      <td>Four-Door Car</td>\n",
              "      <td>Medsize</td>\n",
              "      <td>High</td>\n",
              "      <td>Low</td>\n",
              "    </tr>\n",
              "    <tr>\n",
              "      <th>2</th>\n",
              "      <td>AI49188</td>\n",
              "      <td>Nevada</td>\n",
              "      <td>12887.431650</td>\n",
              "      <td>No</td>\n",
              "      <td>Premium</td>\n",
              "      <td>Bachelor</td>\n",
              "      <td>2/19/11</td>\n",
              "      <td>Employed</td>\n",
              "      <td>F</td>\n",
              "      <td>48767</td>\n",
              "      <td>Suburban</td>\n",
              "      <td>Married</td>\n",
              "      <td>108</td>\n",
              "      <td>18</td>\n",
              "      <td>38</td>\n",
              "      <td>0</td>\n",
              "      <td>2</td>\n",
              "      <td>Personal Auto</td>\n",
              "      <td>Personal L3</td>\n",
              "      <td>Offer1</td>\n",
              "      <td>Agent</td>\n",
              "      <td>566.472247</td>\n",
              "      <td>Two-Door Car</td>\n",
              "      <td>Medsize</td>\n",
              "      <td>High</td>\n",
              "      <td>Low</td>\n",
              "    </tr>\n",
              "    <tr>\n",
              "      <th>3</th>\n",
              "      <td>WW63253</td>\n",
              "      <td>California</td>\n",
              "      <td>7645.861827</td>\n",
              "      <td>No</td>\n",
              "      <td>Basic</td>\n",
              "      <td>Bachelor</td>\n",
              "      <td>1/20/11</td>\n",
              "      <td>Unemployed</td>\n",
              "      <td>M</td>\n",
              "      <td>0</td>\n",
              "      <td>Suburban</td>\n",
              "      <td>Married</td>\n",
              "      <td>106</td>\n",
              "      <td>18</td>\n",
              "      <td>65</td>\n",
              "      <td>0</td>\n",
              "      <td>7</td>\n",
              "      <td>Corporate Auto</td>\n",
              "      <td>Corporate L2</td>\n",
              "      <td>Offer1</td>\n",
              "      <td>Call Center</td>\n",
              "      <td>529.881344</td>\n",
              "      <td>SUV</td>\n",
              "      <td>Medsize</td>\n",
              "      <td>High</td>\n",
              "      <td>High</td>\n",
              "    </tr>\n",
              "    <tr>\n",
              "      <th>4</th>\n",
              "      <td>HB64268</td>\n",
              "      <td>Washington</td>\n",
              "      <td>2813.692575</td>\n",
              "      <td>No</td>\n",
              "      <td>Basic</td>\n",
              "      <td>Bachelor</td>\n",
              "      <td>2/3/11</td>\n",
              "      <td>Employed</td>\n",
              "      <td>M</td>\n",
              "      <td>43836</td>\n",
              "      <td>Rural</td>\n",
              "      <td>Single</td>\n",
              "      <td>73</td>\n",
              "      <td>12</td>\n",
              "      <td>44</td>\n",
              "      <td>0</td>\n",
              "      <td>1</td>\n",
              "      <td>Personal Auto</td>\n",
              "      <td>Personal L1</td>\n",
              "      <td>Offer1</td>\n",
              "      <td>Agent</td>\n",
              "      <td>138.130879</td>\n",
              "      <td>Four-Door Car</td>\n",
              "      <td>Medsize</td>\n",
              "      <td>Low</td>\n",
              "      <td>Low</td>\n",
              "    </tr>\n",
              "  </tbody>\n",
              "</table>\n",
              "</div>"
            ],
            "text/plain": [
              "  Customer       State  ...  CLV Segment Policy Age Segment\n",
              "0  BU79786  Washington  ...          Low                Low\n",
              "1  QZ44356     Arizona  ...         High                Low\n",
              "2  AI49188      Nevada  ...         High                Low\n",
              "3  WW63253  California  ...         High               High\n",
              "4  HB64268  Washington  ...          Low                Low\n",
              "\n",
              "[5 rows x 26 columns]"
            ]
          },
          "metadata": {
            "tags": []
          },
          "execution_count": 25
        }
      ]
    },
    {
      "cell_type": "code",
      "metadata": {
        "id": "rLOX8KdnJRZf",
        "colab_type": "code",
        "outputId": "acbdb4ce-dc54-42a9-b215-44898c239d84",
        "colab": {
          "base_uri": "https://localhost:8080/",
          "height": 458
        }
      },
      "source": [
        "ax = df.loc[ \n",
        "    (df['CLV Segment'] == 'High') & (df['Policy Age Segment'] == 'High') \n",
        "].plot.scatter( x='Months Since Policy Inception', y='Customer Lifetime Value', logy=True, color='red' )\n",
        "df.loc[ \n",
        "    (df['CLV Segment'] == 'Low') & (df['Policy Age Segment'] == 'High') \n",
        "].plot.scatter( ax=ax, x='Months Since Policy Inception', y='Customer Lifetime Value', logy=True, color='blue' )\n",
        "df.loc[ \n",
        "    (df['CLV Segment'] == 'High') & (df['Policy Age Segment'] == 'Low') \n",
        "].plot.scatter( ax=ax, x='Months Since Policy Inception', y='Customer Lifetime Value', logy=True, color='orange' )\n",
        "df.loc[ \n",
        "    (df['CLV Segment'] == 'Low') & (df['Policy Age Segment'] == 'Low')\n",
        "].plot.scatter( ax=ax, x='Months Since Policy Inception', y='Customer Lifetime Value', logy=True, color='green', grid=True, figsize=(10, 7))\n",
        "                                                                                                                                     \n",
        "ax.set_ylabel('CLV (in log scale)')\n",
        "ax.set_xlabel('Months Since Policy Inception')                                                                                          \n",
        "ax.set_title('Segments by CLV and Policy Age')\n",
        "plt.show()\n"
      ],
      "execution_count": 27,
      "outputs": [
        {
          "output_type": "display_data",
          "data": {
            "image/png": "[encoded data removed]",
            "text/plain": [
              "<Figure size 720x504 with 1 Axes>"
            ]
          },
          "metadata": {
            "tags": []
          }
        }
      ]
    },
    {
      "cell_type": "markdown",
      "metadata": {
        "id": "erTtBjm_axWj",
        "colab_type": "text"
      },
      "source": [
        "logy=True transform the scale to log scale and it is often used for monetary values as they often have high skewness in their values. We have repeated the code for the plot scatter 4 times because we have created 4 segments."
      ]
    },
    {
      "cell_type": "code",
      "metadata": {
        "id": "1Gl7G8AzbJ8s",
        "colab_type": "code",
        "colab": {}
      },
      "source": [
        ""
      ],
      "execution_count": 0,
      "outputs": []
    },
    {
      "cell_type": "code",
      "metadata": {
        "id": "ayplNcOwbLKI",
        "colab_type": "code",
        "colab": {
          "base_uri": "https://localhost:8080/",
          "height": 127
        },
        "outputId": "ed913cc0-ef94-463a-c95d-4845c696dd98"
      },
      "source": [
        "# See whether there is any noticeable difference in the engagement rates among these four segments\n",
        "engagement_rates_by_segment_df = df.loc[ df['Response'] == 'Yes' ].groupby([\n",
        "\n",
        "'CLV Segment', 'Policy Age Segment' ]). count()['Customer'] / df.groupby([ 'CLV Segment', 'Policy Age Segment' ]).count()['Customer']\n",
        "engagement_rates_by_segment_df"
      ],
      "execution_count": 42,
      "outputs": [
        {
          "output_type": "execute_result",
          "data": {
            "text/plain": [
              "CLV Segment  Policy Age Segment\n",
              "High         High                  0.138728\n",
              "             Low                   0.132067\n",
              "Low          High                  0.162450\n",
              "             Low                   0.139957\n",
              "Name: Customer, dtype: float64"
            ]
          },
          "metadata": {
            "tags": []
          },
          "execution_count": 42
        }
      ]
    },
    {
      "cell_type": "code",
      "metadata": {
        "id": "uWRR3jQWbllv",
        "colab_type": "code",
        "colab": {
          "base_uri": "https://localhost:8080/",
          "height": 472
        },
        "outputId": "b1b6603c-2fa5-45d0-d20c-2e165c36597b"
      },
      "source": [
        "# Look at these differences in a chart\n",
        "ax = (engagement_rates_by_segment_df.unstack()*100.0).plot( kind='bar', figsize=(10, 7), grid=False )\n",
        "ax.set_ylabel('Engagement Rate (%)') \n",
        "ax.set_title('Engagement Rates by Customer Segments')\n",
        "plt.show()\n"
      ],
      "execution_count": 46,
      "outputs": [
        {
          "output_type": "display_data",
          "data": {
            "image/png": "[encoded data removed]",
            "text/plain": [
              "<Figure size 720x504 with 1 Axes>"
            ]
          },
          "metadata": {
            "tags": []
          }
        }
      ]
    },
    {
      "cell_type": "markdown",
      "metadata": {
        "id": "2jwSbmHvj0cI",
        "colab_type": "text"
      },
      "source": [
        "**The end thank you: Please follow me on Github**"
      ]
    },
    {
      "cell_type": "code",
      "metadata": {
        "id": "oVEDDLCibmk5",
        "colab_type": "code",
        "colab": {}
      },
      "source": [
        ""
      ],
      "execution_count": 0,
      "outputs": []
    }
  ]
}